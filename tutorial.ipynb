{
 "cells": [
  {
   "cell_type": "markdown",
   "metadata": {},
   "source": [
    "# Using Drago for Distributionally Robust Learning\n",
    "\n",
    "In this tutorial, we show how to fit models using Drago (and baselines). Please see `README.md` for environment setup and other instructions."
   ]
  },
  {
   "cell_type": "code",
   "execution_count": 22,
   "metadata": {},
   "outputs": [],
   "source": [
    "from src.utils import get_objective, get_optimizer\n",
    "from src.data import load_dataset\n",
    "from scipy.optimize import minimize\n",
    "\n",
    "import matplotlib.pyplot as plt\n",
    "import numpy as np\n",
    "import torch\n",
    "from tqdm import tqdm"
   ]
  },
  {
   "cell_type": "markdown",
   "metadata": {},
   "source": [
    "The two components required are an `Objective` (representing spectral risk measures or Chi-Squared divergence) and an `Optimizer`."
   ]
  },
  {
   "cell_type": "code",
   "execution_count": 23,
   "metadata": {},
   "outputs": [],
   "source": [
    "# Load a dataset, one of either: 'yacht', 'energy', 'concrete', 'kin8m', 'power', 'acsincome', 'diabetes', 'amazon', or 'iwildcam'.\n",
    "# The smaller UCI and OpenML datasets will be downloaded automatically to the /data folder, whereas the larger ones require pre-downloading (See `README.md`).\n",
    "dataset = \"yacht\"\n",
    "\n",
    "X_train, y_train, X_val, y_val = load_dataset(dataset)"
   ]
  },
  {
   "cell_type": "markdown",
   "metadata": {},
   "source": [
    "Specify the primal regularization constant with `l2_reg` and dual regularization constant with `shift_cost`."
   ]
  },
  {
   "cell_type": "code",
   "execution_count": 24,
   "metadata": {},
   "outputs": [],
   "source": [
    "# Build objective.\n",
    "model_cfg = {\n",
    "    \"objective\": \"cvar\", # Options: 'cvar', 'chi2',\n",
    "    \"l2_reg\": 1.0,\n",
    "    \"loss\": \"squared_error\",  # Options: 'squared_error', 'binary_cross_entropy', 'multinomial_cross_entropy'.\n",
    "    \"n_class\": None,\n",
    "    \"shift_cost\": 1.0,\n",
    "}\n",
    "\n",
    "train_obj = get_objective(model_cfg, X_train, y_train)\n",
    "val_obj   = get_objective(model_cfg, X_val, y_val)"
   ]
  },
  {
   "cell_type": "markdown",
   "metadata": {},
   "source": [
    "Generate the optimizer. The `drago_batch` variant uses $n/d$ as the batch/block size."
   ]
  },
  {
   "cell_type": "code",
   "execution_count": 25,
   "metadata": {},
   "outputs": [],
   "source": [
    "# Build optimizer.\n",
    "seed = 1\n",
    "optim_cfg = {\n",
    "    \"optimizer\": \"drago_batch\", # Options: 'sgd', 'lsvrg', 'drago', 'drago_auto', 'drago_batch\n",
    "    \"lr\": 0.0003,\n",
    "    \"epoch_len\": 200, # Used as an update interval for LSVRG, and otherwise is simply a logging interval for other methods.\n",
    "    \"shift_cost\": 1.0,\n",
    "}\n",
    "optimizer = get_optimizer(optim_cfg, train_obj, seed)"
   ]
  },
  {
   "cell_type": "code",
   "execution_count": 26,
   "metadata": {},
   "outputs": [
    {
     "name": "stderr",
     "output_type": "stream",
     "text": [
      "100%|██████████| 64/64 [00:08<00:00,  7.64it/s]\n"
     ]
    }
   ],
   "source": [
    "n_epochs = 64\n",
    "\n",
    "train_losses = []\n",
    "val_losses = []\n",
    "epoch_len = optimizer.get_epoch_len()\n",
    "for epoch in tqdm(range(n_epochs)):\n",
    "\n",
    "    optimizer.start_epoch()\n",
    "    for _ in range(epoch_len):\n",
    "        optimizer.step()\n",
    "    optimizer.end_epoch()\n",
    "\n",
    "    # The current iterate can be accessed with optimizer.weights, \n",
    "    # and the full-batch loss can be computed with objective.get_batch_loss.\n",
    "    train_losses.append(train_obj.get_batch_loss(optimizer.weights).item())\n",
    "    val_losses.append(val_obj.get_batch_loss(optimizer.weights).item())"
   ]
  },
  {
   "cell_type": "markdown",
   "metadata": {},
   "source": [
    "We use a second-order optimizer as a reference to measure suboptimality."
   ]
  },
  {
   "cell_type": "code",
   "execution_count": 27,
   "metadata": {},
   "outputs": [
    {
     "name": "stdout",
     "output_type": "stream",
     "text": [
      "L-BGFS sucsess! Minimum loss on yacht: 0.7561\n"
     ]
    }
   ],
   "source": [
    "# compare to a reference loss from L-BFGS (second-order method)\n",
    "train_obj_ = get_objective(model_cfg, X_train, y_train)\n",
    "\n",
    "# Define function and Jacobian oracles.\n",
    "def fun(w):\n",
    "    return train_obj_.get_batch_loss(torch.tensor(w, dtype=torch.float64)).item()\n",
    "\n",
    "def jac(w):\n",
    "    return (\n",
    "        train_obj_.get_batch_subgrad(\n",
    "            torch.tensor(w, dtype=torch.float64, requires_grad=True)\n",
    "        )\n",
    "        .detach()\n",
    "        .numpy()\n",
    "    )\n",
    "\n",
    "# Run optimizer.\n",
    "d = train_obj.d\n",
    "init = np.zeros((d,), dtype=np.float64)\n",
    "if model_cfg[\"n_class\"]:\n",
    "    init = np.zeros((model_cfg[\"n_class\"] * d,), dtype=np.float64)\n",
    "else:\n",
    "    init = np.zeros((d,), dtype=np.float64)\n",
    "output = minimize(fun, init, method=\"L-BFGS-B\", jac=jac)\n",
    "if output.success:\n",
    "    print(f\"L-BGFS sucsess! Minimum loss on {dataset}: {output.fun:0.4f}\")\n",
    "else:\n",
    "    raise Exception(output.message)"
   ]
  },
  {
   "cell_type": "code",
   "execution_count": 28,
   "metadata": {},
   "outputs": [
    {
     "data": {
      "image/png": "[encoded data removed]",
      "text/plain": [
       "<Figure size 500x500 with 1 Axes>"
      ]
     },
     "metadata": {},
     "output_type": "display_data"
    }
   ],
   "source": [
    "# Display training and validation loss.\n",
    "\n",
    "fig, ax = plt.subplots(1, 1, figsize=(5, 5))\n",
    "\n",
    "t = np.arange(len(train_losses))\n",
    "\n",
    "minimum_loss = output.fun\n",
    "train_losses = np.array(train_losses)\n",
    "subopt = (train_losses - minimum_loss) / (train_losses[0] - minimum_loss)\n",
    "\n",
    "downsample = 4\n",
    "ax.plot(t[::downsample], subopt[::downsample], color=\"tab:red\", linewidth=3, label=r\"Train Suboptimality (with $\\ell^2$ reg.)\")\n",
    "ax.set_xlabel(\"Epochs\")\n",
    "\n",
    "ax.legend()\n",
    "ax.set_yscale(\"log\")\n",
    "plt.show()"
   ]
  },
  {
   "cell_type": "code",
   "execution_count": null,
   "metadata": {},
   "outputs": [],
   "source": []
  }
 ],
 "metadata": {
  "kernelspec": {
   "display_name": "dro",
   "language": "python",
   "name": "python3"
  },
  "language_info": {
   "codemirror_mode": {
    "name": "ipython",
    "version": 3
   },
   "file_extension": ".py",
   "mimetype": "text/x-python",
   "name": "python",
   "nbconvert_exporter": "python",
   "pygments_lexer": "ipython3",
   "version": "3.10.13"
  }
 },
 "nbformat": 4,
 "nbformat_minor": 2
}
